{
 "cells": [
  {
   "cell_type": "markdown",
   "metadata": {},
   "source": [
    "# What is Text analytics???"
   ]
  },
  {
   "cell_type": "markdown",
   "metadata": {},
   "source": [
    "# Text Analytics (also referred to as text mining) is an artificial intelligence (AI) technology that uses natural language processing (NLP) to transform the free (unstructured) text in documents and databases into normalized, structured data suitable for analysis or to drive machine learning (ML) algorithms.\n"
   ]
  },
  {
   "cell_type": "code",
   "execution_count": 17,
   "metadata": {},
   "outputs": [],
   "source": [
    "import nltk"
   ]
  },
  {
   "cell_type": "markdown",
   "metadata": {},
   "source": [
    "# NLTK TOOL - INSTALLATION"
   ]
  },
  {
   "cell_type": "code",
   "execution_count": null,
   "metadata": {},
   "outputs": [],
   "source": [
    "#!pip3 install nltk"
   ]
  },
  {
   "cell_type": "markdown",
   "metadata": {},
   "source": [
    "# NLTK -NATURAL LANGUAGE TOOL KIT\n",
    "\n",
    "NLTK helps the computer to analysis, preprocess, and understand the written text."
   ]
  },
  {
   "cell_type": "markdown",
   "metadata": {},
   "source": [
    "# PREPROCESSING STEPS IN TEXT ANALYTICS"
   ]
  },
  {
   "cell_type": "markdown",
   "metadata": {},
   "source": [
    "Tokenization\n",
    "\n",
    "Stop word Removal\n",
    "\n",
    "Lexicon Normalization\n",
    "\n",
    "POS Tagging\n"
   ]
  },
  {
   "cell_type": "markdown",
   "metadata": {},
   "source": [
    "# TOKENIZATION"
   ]
  },
  {
   "cell_type": "code",
   "execution_count": 1,
   "metadata": {},
   "outputs": [],
   "source": [
    "from nltk.tokenize import sent_tokenize,word_tokenize\n"
   ]
  },
  {
   "cell_type": "code",
   "execution_count": 2,
   "metadata": {},
   "outputs": [
    {
     "name": "stdout",
     "output_type": "stream",
     "text": [
      "['The amount of rain that the state received in the first 10 days of August is more when compared to the previous two years.', 'The opening of all dams at one time during heavy rainfall in the state is what led to floods in 2018.']\n"
     ]
    }
   ],
   "source": [
    "text=\"The amount of rain that the state received in the first 10 days of August is more when compared to the previous two years. The opening of all dams at one time during heavy rainfall in the state is what led to floods in 2018.\"\n",
    "tokenized_text=sent_tokenize(text)\n",
    "print(tokenized_text)"
   ]
  },
  {
   "cell_type": "code",
   "execution_count": null,
   "metadata": {},
   "outputs": [],
   "source": [
    "#nltk.download('punkt')"
   ]
  },
  {
   "cell_type": "code",
   "execution_count": 3,
   "metadata": {},
   "outputs": [
    {
     "name": "stdout",
     "output_type": "stream",
     "text": [
      "['അമേരിക്കന്\\u200d ജനതയെ ഒന്നിപ്പിക്കാന്\\u200d ജോ ബൈഡന്\\u200c സാധിക്കും.', 'നമുക്ക് വേണ്ടിയാണ്\\u200c അദ്ദേഹം ജീവിതകാലം മുഴുവന്\\u200d പോരാടിയത്\\u200c.', 'നമ്മുടെയൊക്കെ സങ്കല്\\u200dപ്പത്തിനുസരിച്ച് അമേരിക്കയെ മാറ്റാന്\\u200d അദ്ദേഹത്തിന് സാധിക്കുമെന്നും അവര്\\u200d ട്വീറ്റ് ചെയ്തു.']\n"
     ]
    }
   ],
   "source": [
    "text_mal=\"അമേരിക്കന്‍ ജനതയെ ഒന്നിപ്പിക്കാന്‍ ജോ ബൈഡന്‌ സാധിക്കും. നമുക്ക് വേണ്ടിയാണ്‌ അദ്ദേഹം ജീവിതകാലം മുഴുവന്‍ പോരാടിയത്‌. നമ്മുടെയൊക്കെ സങ്കല്‍പ്പത്തിനുസരിച്ച് അമേരിക്കയെ മാറ്റാന്‍ അദ്ദേഹത്തിന് സാധിക്കുമെന്നും അവര്‍ ട്വീറ്റ് ചെയ്തു.\"\n",
    "tokenized_text_mal=sent_tokenize(text_mal)\n",
    "print(tokenized_text_mal)"
   ]
  },
  {
   "cell_type": "code",
   "execution_count": 7,
   "metadata": {},
   "outputs": [
    {
     "name": "stdout",
     "output_type": "stream",
     "text": [
      "['मलयालं, भाषा और लिपि के विचार से तमिल भाषा के काफी निकट है.', 'इस पर संस्कृत का प्रभाव ईसा के पूर्व पहली सदी से हुआ है। संस्कृत शब्दों को मलयालम शैली के अनुकूल बनाने के लिए संस्कृत से अवतरित शब्दों को संशोधित किया गया है.', 'अरबों के साथ सदियों से व्यापार संबंध अंग्रेजी तथा पुर्तगाली उपनिवेशवाद का असर भी भाषा पर पड़ा है.']\n"
     ]
    }
   ],
   "source": [
    "text_hin=\"मलयालं, भाषा और लिपि के विचार से तमिल भाषा के काफी निकट है. इस पर संस्कृत का प्रभाव ईसा के पूर्व पहली सदी से हुआ है। संस्कृत शब्दों को मलयालम शैली के अनुकूल बनाने के लिए संस्कृत से अवतरित शब्दों को संशोधित किया गया है. अरबों के साथ सदियों से व्यापार संबंध अंग्रेजी तथा पुर्तगाली उपनिवेशवाद का असर भी भाषा पर पड़ा है.\"\n",
    "tokenized_text_hin=sent_tokenize(text_hin)\n",
    "print(tokenized_text_hin)"
   ]
  },
  {
   "cell_type": "code",
   "execution_count": 4,
   "metadata": {},
   "outputs": [
    {
     "name": "stdout",
     "output_type": "stream",
     "text": [
      "['The', 'amount', 'of', 'rain', 'that', 'the', 'state', 'received', 'in', 'the', 'first', '10', 'days', 'of', 'August', 'is', 'more', 'when', 'compared', 'to', 'the', 'previous', 'two', 'years', '.', 'The', 'opening', 'of', 'all', 'dams', 'at', 'one', 'time', 'during', 'heavy', 'rainfall', 'in', 'the', 'state', 'is', 'what', 'led', 'to', 'floods', 'in', '2018', '.']\n"
     ]
    }
   ],
   "source": [
    "tokenized_word=word_tokenize(text)\n",
    "print(tokenized_word)"
   ]
  },
  {
   "cell_type": "code",
   "execution_count": 5,
   "metadata": {},
   "outputs": [
    {
     "name": "stdout",
     "output_type": "stream",
     "text": [
      "['അമേരിക്കന്\\u200d', 'ജനതയെ', 'ഒന്നിപ്പിക്കാന്\\u200d', 'ജോ', 'ബൈഡന്\\u200c', 'സാധിക്കും', '.', 'നമുക്ക്', 'വേണ്ടിയാണ്\\u200c', 'അദ്ദേഹം', 'ജീവിതകാലം', 'മുഴുവന്\\u200d', 'പോരാടിയത്\\u200c', '.', 'നമ്മുടെയൊക്കെ', 'സങ്കല്\\u200dപ്പത്തിനുസരിച്ച്', 'അമേരിക്കയെ', 'മാറ്റാന്\\u200d', 'അദ്ദേഹത്തിന്', 'സാധിക്കുമെന്നും', 'അവര്\\u200d', 'ട്വീറ്റ്', 'ചെയ്തു', '.']\n"
     ]
    }
   ],
   "source": [
    "tokenized_word_mal=word_tokenize(text_mal)\n",
    "print(tokenized_word_mal)"
   ]
  },
  {
   "cell_type": "code",
   "execution_count": 8,
   "metadata": {},
   "outputs": [
    {
     "name": "stdout",
     "output_type": "stream",
     "text": [
      "['मलयालं', ',', 'भाषा', 'और', 'लिपि', 'के', 'विचार', 'से', 'तमिल', 'भाषा', 'के', 'काफी', 'निकट', 'है', '.', 'इस', 'पर', 'संस्कृत', 'का', 'प्रभाव', 'ईसा', 'के', 'पूर्व', 'पहली', 'सदी', 'से', 'हुआ', 'है।', 'संस्कृत', 'शब्दों', 'को', 'मलयालम', 'शैली', 'के', 'अनुकूल', 'बनाने', 'के', 'लिए', 'संस्कृत', 'से', 'अवतरित', 'शब्दों', 'को', 'संशोधित', 'किया', 'गया', 'है', '.', 'अरबों', 'के', 'साथ', 'सदियों', 'से', 'व्यापार', 'संबंध', 'अंग्रेजी', 'तथा', 'पुर्तगाली', 'उपनिवेशवाद', 'का', 'असर', 'भी', 'भाषा', 'पर', 'पड़ा', 'है', '.']\n"
     ]
    }
   ],
   "source": [
    "tokenized_word_hin=word_tokenize(text_hin)\n",
    "print(tokenized_word_hin)"
   ]
  },
  {
   "cell_type": "markdown",
   "metadata": {},
   "source": [
    "# STOPWORDS"
   ]
  },
  {
   "cell_type": "code",
   "execution_count": 9,
   "metadata": {},
   "outputs": [],
   "source": [
    "from nltk.corpus import stopwords"
   ]
  },
  {
   "cell_type": "code",
   "execution_count": 10,
   "metadata": {},
   "outputs": [
    {
     "name": "stdout",
     "output_type": "stream",
     "text": [
      "{'an', 'at', 'as', 'him', 'very', 'weren', 'am', 'd', 'under', 'were', 'her', 'whom', 'own', 'doing', 'your', \"isn't\", 'mightn', 'or', 'only', 'our', 'themselves', 'then', 'and', 'o', 'didn', 've', 'against', \"haven't\", 'you', \"needn't\", 'but', 'because', \"you'll\", \"it's\", 'myself', 'through', 'ain', 'just', 'doesn', \"mustn't\", 'why', 'we', 'wouldn', 'now', 'did', 'hers', 'being', 'same', 'ma', 'when', 'had', 'it', \"hadn't\", 'not', 'isn', 'while', 'a', 'few', \"couldn't\", 'i', 'any', 'will', 'are', 'yourself', 'does', 're', 'don', 'that', \"weren't\", 'yours', 'both', 'all', \"don't\", 'needn', 'how', \"should've\", 'which', 'its', 'been', 'of', 'again', 'too', 'over', 'about', 'there', 'has', 'above', \"hasn't\", 'should', 'in', 'these', \"shouldn't\", 'into', 'them', 'my', \"she's\", 'here', 'having', 'on', 'once', 'further', 'they', 'hadn', \"you'd\", \"wasn't\", 'the', 'aren', 'those', 'nor', \"shan't\", 'haven', 'me', 'off', 'itself', 'for', 'yourselves', 'wasn', \"that'll\", 's', 'himself', 'shouldn', 'ours', 'what', 'is', 'herself', 'their', \"wouldn't\", 'have', 'than', 'to', 'before', 'so', 'where', 'was', 'most', 'more', 'some', 'mustn', 'won', 'such', 'ourselves', 'his', \"won't\", 'this', \"you're\", 'who', 'during', 'he', 'other', 'shan', 'couldn', 'by', 'from', 'be', 'no', 'theirs', \"you've\", 'if', 'y', 'The', 'do', 'she', 'each', 'down', 't', 'between', 'll', \"aren't\", \"didn't\", 'out', 'after', \"doesn't\", \"mightn't\", 'up', 'with', 'm', 'hasn', 'until', 'can', 'below'}\n"
     ]
    }
   ],
   "source": [
    "stop_words=set(stopwords.words(\"english\"))\n",
    "print(stop_words)"
   ]
  },
  {
   "cell_type": "code",
   "execution_count": null,
   "metadata": {},
   "outputs": [],
   "source": [
    "#nltk.download('stopwords')"
   ]
  },
  {
   "cell_type": "code",
   "execution_count": 11,
   "metadata": {},
   "outputs": [
    {
     "name": "stdout",
     "output_type": "stream",
     "text": [
      "{'വിവിധ', 'വേണം', 'പല', 'ഇതില്', 'എത്താന്\\u200d', 'കുറഞ്ഞ', 'കൊണ്ട്', 'നിലനിൽക്കുന്ന', 'മുന്\\u200dപ്', 'ഇതിന്റെ', 'ശേഷം', 'ഏകദേശം', 'എന്ന', 'കുറച്ച്', 'വരുന്നു', 'ഇതിനെ', 'എന്നുപറയുന്നു', 'ചെയ്യുന്ന', 'വേണ്ടിയും', 'ആയി', 'നിന്നും', 'പ്രധാന', 'എപ്പോഴും', 'ഈ', 'ഉണ്ട്', 'ഇത്', 'പക്ഷേ', 'അടുത്തുള്ള', 'മുതലായവക്ക്', 'മറ്റു', 'താങ്കള്\\u200d', 'ആ', 'കാണാന്\\u200d ', 'മുഴുവന്\\u200d ', 'ഇപ്രകാരം', 'കഴിയും', 'അധികം', 'ഇപ്പോള്', 'തന്റെ', 'ആണ്', 'കഴിയുന്നു', 'വളരെ', 'അടുത്ത', 'എന്നറിയപ്പെടുന്നു', 'പോലുള്ള', 'പ്രാധാന്യം ', 'ഇതാണ്', 'നിലനിൽക്കുന്നത്', 'ഇവിടത്തെ', 'അതേ', 'കൂടെ', 'മുതലായവ', 'ഏറ്റവും', 'ചെയ്യുന്നു', 'ഇടയില് ഇല്ല', 'നിന്ന്', 'അതിനു', 'ചേര്\\u200dത്തു', 'പറഞ്ഞ്', 'ഉണ്ടാകുന്നുണ്ട്', 'സ്ഥിതിചെയ്യുന്നു', 'അതായത്', 'കാര്യമാണ്', 'നമ്മുടെ', 'അടുത്ത്', 'നല്ല', 'എന്നു', 'ചെയ്യുന്നത്', 'നിന്നു', 'മാത്രമല്ല', 'കിടക്കുന്ന', 'വളരെ അധികം', 'ഇതിന്', 'സ്ഥിതി', 'വലിയ', 'കൂടിയാണ്', 'എന്ന്', 'കൂടുതല്\\u200d', 'ഒരുപോലെ', 'ഇപ്പോൾ', 'മുമ്പ്', 'കാണാൻ', 'എല്ലാ', 'എന്നീ', 'സ്ഥിതിചെയ്യുന്ന', 'ഒരു പോലെ', 'പോയി', 'ഇവിടെ', 'ധാരാളം', 'എന്തെന്നാല്', 'ആദ്യം', 'വളരെയധികം', 'ഏത്', 'എന്നിവയുടെ', 'ഇവ', 'വേണ്ടി', 'പോയാല്', 'കൊടുത്തിട്ടും', 'കാരണം', 'എന്നു പറയുന്നു', 'വേണ്ട', 'കൂടാതെ', 'ഇതു', 'എന്നാണ്', 'ഒരു', 'ചെയ്യണം', 'എന്നാല്', 'എന്നിവ'}\n"
     ]
    }
   ],
   "source": [
    "stop_words_mal=set(stopwords.words(\"malayalam\"))\n",
    "print(stop_words_mal)"
   ]
  },
  {
   "cell_type": "code",
   "execution_count": 12,
   "metadata": {},
   "outputs": [
    {
     "name": "stdout",
     "output_type": "stream",
     "text": [
      "{'जो', 'कहते', 'सो', 'लिए', 'इसका', 'हुई', 'होता', 'और', 'होना', 'वग़ैरह', 'बिलकुल', 'कहा', 'सकता', 'नीचे', 'वह', '\\ufeffके', 'जैसे', 'इसे', 'यहाँ', 'दो', 'कुछ', 'किन्हें', 'संग', 'फिर', 'मगर', 'उनकी', 'किया', 'बही', 'किसी', 'यदि', 'हुआ', 'दुसरा', 'पे', 'कौनसा', 'जिसे', 'सभी', 'तरह', 'उस', 'तिन्हों', 'किर', 'रहा', 'इसके', 'ना', 'उनका', 'तो', 'उन', 'उनके', 'नहीं', 'जीधर', 'इसकी', 'वे', 'तिन्हें', 'बनी', 'का', 'तिस', 'अपनी', 'करें', 'इस', 'अत', 'जिन्हों', 'ऐसे', 'आप', 'दिया', 'तक', 'ही', 'निहायत', 'इसमें', 'रहे', 'उसे', 'इन्हें', 'कर', 'ये', 'लेकिन', 'इन्हीं', 'वहीं', 'किन्हों', 'को', 'थी', 'गया', 'इन्हों', 'एवं', 'किसे', 'तब', 'अपना', 'करते', 'कुल', 'उसी', 'जब', 'काफ़ी', 'अभी', 'न', 'वुह', 'होते', 'उनको', 'वाले', 'जिस', 'घर', 'सबसे', 'मे', 'अंदर', 'यिह', 'सकते', 'कितना', 'यही', 'द्वारा', 'जिन', 'होती', 'किस', 'उन्हीं', 'इन', 'भीतर', 'बाद', 'इनका', 'भी', 'करना', 'हैं', 'लिये', 'दबारा', 'कोई', 'करता', 'साथ', 'या', 'पूरा', 'तिन', 'एस', 'तिसे', 'उन्हें', 'यह', 'थे', 'इत्यादि', 'बहुत', 'दूसरे', 'था', 'जैसा', 'व', 'उन्हों', 'एक', 'हुए', 'ने', 'साबुत', 'करने', 'कि', 'जितना', 'जहाँ', 'पहले', 'होने', 'ऱ्वासा', 'इसी', 'से', 'बाला', 'है', 'कौन', 'हो', 'उसके', 'जा', 'वर्ग', 'साभ', 'सारा', 'पर', 'रखें', 'जिन्हें', 'वहाँ', 'मानो', 'अपने'}\n"
     ]
    }
   ],
   "source": [
    "stop_words_hin=set(stopwords.words(\"hindi.txt\"))\n",
    "print(stop_words_hin)"
   ]
  },
  {
   "cell_type": "markdown",
   "metadata": {},
   "source": [
    "# REMOVAL OF STOPWORDS"
   ]
  },
  {
   "cell_type": "code",
   "execution_count": 19,
   "metadata": {},
   "outputs": [
    {
     "name": "stdout",
     "output_type": "stream",
     "text": [
      "Tokenized Sentence: ['The', 'amount', 'of', 'rain', 'that', 'the', 'state', 'received', 'in', 'the', 'first', '10', 'days', 'of', 'August', 'is', 'more', 'when', 'compared', 'to', 'the', 'previous', 'two', 'years', '.', 'The', 'opening', 'of', 'all', 'dams', 'at', 'one', 'time', 'during', 'heavy', 'rainfall', 'in', 'the', 'state', 'is', 'what', 'led', 'to', 'floods', 'in', '2018', '.']\n",
      "-------------------------\n",
      "Filterd Sentence: ['amount', 'rain', 'state', 'received', 'first', '10', 'days', 'August', 'compared', 'previous', 'two', 'years', '.', 'opening', 'dams', 'one', 'time', 'heavy', 'rainfall', 'state', 'led', 'floods', '2018', '.']\n"
     ]
    }
   ],
   "source": [
    "filtered_sent=[]\n",
    "for w in tokenized_word:\n",
    "    if w not in stop_words:\n",
    "        filtered_sent.append(w)\n",
    "print(\"Tokenized Sentence:\",tokenized_word)\n",
    "print(\"-------------------------\")\n",
    "print(\"Filterd Sentence:\",filtered_sent)"
   ]
  },
  {
   "cell_type": "code",
   "execution_count": 20,
   "metadata": {},
   "outputs": [
    {
     "name": "stdout",
     "output_type": "stream",
     "text": [
      "Tokenized Sentence: ['അമേരിക്കന്\\u200d', 'ജനതയെ', 'ഒന്നിപ്പിക്കാന്\\u200d', 'ജോ', 'ബൈഡന്\\u200c', 'സാധിക്കും', '.', 'നമുക്ക്', 'വേണ്ടിയാണ്\\u200c', 'അദ്ദേഹം', 'ജീവിതകാലം', 'മുഴുവന്\\u200d', 'പോരാടിയത്\\u200c', '.', 'നമ്മുടെയൊക്കെ', 'സങ്കല്\\u200dപ്പത്തിനുസരിച്ച്', 'അമേരിക്കയെ', 'മാറ്റാന്\\u200d', 'അദ്ദേഹത്തിന്', 'സാധിക്കുമെന്നും', 'അവര്\\u200d', 'ട്വീറ്റ്', 'ചെയ്തു', '.']\n",
      "-----------------------------------------\n",
      "Filterd Sentence: ['അമേരിക്കന്\\u200d', 'ജനതയെ', 'ഒന്നിപ്പിക്കാന്\\u200d', 'ജോ', 'ബൈഡന്\\u200c', 'സാധിക്കും', '.', 'നമുക്ക്', 'വേണ്ടിയാണ്\\u200c', 'അദ്ദേഹം', 'ജീവിതകാലം', 'മുഴുവന്\\u200d', 'പോരാടിയത്\\u200c', '.', 'നമ്മുടെയൊക്കെ', 'സങ്കല്\\u200dപ്പത്തിനുസരിച്ച്', 'അമേരിക്കയെ', 'മാറ്റാന്\\u200d', 'അദ്ദേഹത്തിന്', 'സാധിക്കുമെന്നും', 'അവര്\\u200d', 'ട്വീറ്റ്', 'ചെയ്തു', '.']\n"
     ]
    }
   ],
   "source": [
    "filtered_sent_mal=[]\n",
    "for w_mal in tokenized_word_mal:\n",
    "    if w_mal not in stop_words_mal:\n",
    "        filtered_sent_mal.append(w_mal)\n",
    "print(\"Tokenized Sentence:\",tokenized_word_mal)\n",
    "print(\"-----------------------------------------\")\n",
    "print(\"Filterd Sentence:\",filtered_sent_mal)"
   ]
  },
  {
   "cell_type": "code",
   "execution_count": 21,
   "metadata": {},
   "outputs": [
    {
     "name": "stdout",
     "output_type": "stream",
     "text": [
      "Tokenized Sentence: ['मलयालं', ',', 'भाषा', 'और', 'लिपि', 'के', 'विचार', 'से', 'तमिल', 'भाषा', 'के', 'काफी', 'निकट', 'है', '.', 'इस', 'पर', 'संस्कृत', 'का', 'प्रभाव', 'ईसा', 'के', 'पूर्व', 'पहली', 'सदी', 'से', 'हुआ', 'है।', 'संस्कृत', 'शब्दों', 'को', 'मलयालम', 'शैली', 'के', 'अनुकूल', 'बनाने', 'के', 'लिए', 'संस्कृत', 'से', 'अवतरित', 'शब्दों', 'को', 'संशोधित', 'किया', 'गया', 'है', '.', 'अरबों', 'के', 'साथ', 'सदियों', 'से', 'व्यापार', 'संबंध', 'अंग्रेजी', 'तथा', 'पुर्तगाली', 'उपनिवेशवाद', 'का', 'असर', 'भी', 'भाषा', 'पर', 'पड़ा', 'है', '.']\n",
      "-----------------------------------------\n",
      "Filterd Sentence: ['मलयालं', ',', 'भाषा', 'लिपि', 'के', 'विचार', 'तमिल', 'भाषा', 'के', 'काफी', 'निकट', '.', 'संस्कृत', 'प्रभाव', 'ईसा', 'के', 'पूर्व', 'पहली', 'सदी', 'है।', 'संस्कृत', 'शब्दों', 'मलयालम', 'शैली', 'के', 'अनुकूल', 'बनाने', 'के', 'संस्कृत', 'अवतरित', 'शब्दों', 'संशोधित', '.', 'अरबों', 'के', 'सदियों', 'व्यापार', 'संबंध', 'अंग्रेजी', 'तथा', 'पुर्तगाली', 'उपनिवेशवाद', 'असर', 'भाषा', 'पड़ा', '.']\n"
     ]
    }
   ],
   "source": [
    "filtered_sent_hin=[]\n",
    "for w_hin in tokenized_word_hin:\n",
    "    if w_hin not in stop_words_hin:\n",
    "        filtered_sent_hin.append(w_hin)\n",
    "print(\"Tokenized Sentence:\",tokenized_word_hin)\n",
    "print(\"-----------------------------------------\")\n",
    "print(\"Filterd Sentence:\",filtered_sent_hin)"
   ]
  },
  {
   "cell_type": "markdown",
   "metadata": {},
   "source": [
    "# Lexicon Normalization"
   ]
  },
  {
   "cell_type": "markdown",
   "metadata": {},
   "source": [
    "# STEMMING"
   ]
  },
  {
   "cell_type": "markdown",
   "metadata": {},
   "source": [
    "# Stemming is a process of linguistic normalization, which reduces words to their word root word or chops off the derivational affixes."
   ]
  },
  {
   "cell_type": "markdown",
   "metadata": {},
   "source": [
    "# Default Stemmer :- Porter Stemmer"
   ]
  },
  {
   "cell_type": "code",
   "execution_count": 22,
   "metadata": {},
   "outputs": [],
   "source": [
    "from nltk.stem import PorterStemmer"
   ]
  },
  {
   "cell_type": "code",
   "execution_count": 23,
   "metadata": {},
   "outputs": [
    {
     "name": "stdout",
     "output_type": "stream",
     "text": [
      "program  :  program\n",
      "programs  :  program\n",
      "programer  :  program\n",
      "programing  :  program\n",
      "programers  :  program\n"
     ]
    }
   ],
   "source": [
    "#simple example\n",
    "\n",
    "ps = PorterStemmer() \n",
    "\n",
    "words = [\"program\", \"programs\", \"programer\", \"programing\", \"programers\"] \n",
    "  \n",
    "for w in words: \n",
    "    \n",
    "    print(w, \" : \", ps.stem(w)) \n",
    "    "
   ]
  },
  {
   "cell_type": "code",
   "execution_count": 24,
   "metadata": {},
   "outputs": [
    {
     "name": "stdout",
     "output_type": "stream",
     "text": [
      "Filtered Sentence: ['amount', 'rain', 'state', 'received', 'first', '10', 'days', 'August', 'compared', 'previous', 'two', 'years', '.', 'opening', 'dams', 'one', 'time', 'heavy', 'rainfall', 'state', 'led', 'floods', '2018', '.']\n",
      "Stemmed Sentence: ['amount', 'rain', 'state', 'receiv', 'first', '10', 'day', 'august', 'compar', 'previou', 'two', 'year', '.', 'open', 'dam', 'one', 'time', 'heavi', 'rainfal', 'state', 'led', 'flood', '2018', '.']\n"
     ]
    }
   ],
   "source": [
    "ps = PorterStemmer()\n",
    "stemmed_words=[]\n",
    "for w in filtered_sent:\n",
    "    stemmed_words.append(ps.stem(w))\n",
    "\n",
    "print(\"Filtered Sentence:\",filtered_sent)\n",
    "print(\"Stemmed Sentence:\",stemmed_words)\n",
    "\n"
   ]
  },
  {
   "cell_type": "code",
   "execution_count": 25,
   "metadata": {},
   "outputs": [
    {
     "data": {
      "text/plain": [
       "'compar'"
      ]
     },
     "execution_count": 25,
     "metadata": {},
     "output_type": "execute_result"
    }
   ],
   "source": [
    "w=\"comparing\"\n",
    "PorterStemmer().stem(w)"
   ]
  },
  {
   "cell_type": "code",
   "execution_count": 26,
   "metadata": {},
   "outputs": [
    {
     "data": {
      "text/plain": [
       "'ambigu'"
      ]
     },
     "execution_count": 26,
     "metadata": {},
     "output_type": "execute_result"
    }
   ],
   "source": [
    "word = \"ambiguity\"\n",
    "PorterStemmer().stem(word)"
   ]
  },
  {
   "cell_type": "markdown",
   "metadata": {},
   "source": [
    "# Is there any issue????????????"
   ]
  },
  {
   "cell_type": "markdown",
   "metadata": {},
   "source": [
    "# Lemmatization"
   ]
  },
  {
   "cell_type": "markdown",
   "metadata": {},
   "source": [
    "1.Lemmatization reduces words to their base word, which is linguistically correct lemmas.\n",
    "\n",
    "2.It transforms root word with the use of dictionary\n",
    "\n",
    "3.Lemmatization is usually more sophisticated than stemming. \n",
    "\n",
    "4.Stemmer works on an individual word without knowledge of the context."
   ]
  },
  {
   "cell_type": "code",
   "execution_count": 14,
   "metadata": {},
   "outputs": [],
   "source": [
    "from nltk.stem import WordNetLemmatizer "
   ]
  },
  {
   "cell_type": "code",
   "execution_count": 15,
   "metadata": {},
   "outputs": [],
   "source": [
    "lem = WordNetLemmatizer()"
   ]
  },
  {
   "cell_type": "code",
   "execution_count": 18,
   "metadata": {},
   "outputs": [
    {
     "name": "stderr",
     "output_type": "stream",
     "text": [
      "[nltk_data] Downloading package wordnet to\n",
      "[nltk_data]     C:\\Users\\dhany\\AppData\\Roaming\\nltk_data...\n",
      "[nltk_data]   Package wordnet is already up-to-date!\n"
     ]
    },
    {
     "data": {
      "text/plain": [
       "True"
      ]
     },
     "execution_count": 18,
     "metadata": {},
     "output_type": "execute_result"
    }
   ],
   "source": [
    "nltk.download('wordnet')"
   ]
  },
  {
   "cell_type": "markdown",
   "metadata": {},
   "source": [
    "# What is Wordnet?\n",
    "Wordnet is an NLTK corpus reader, a lexical database for English. It can be used to find the \n",
    "meaning of words, synonym or antonym. One can define it as a semantically oriented dictionary of English."
   ]
  },
  {
   "cell_type": "code",
   "execution_count": 19,
   "metadata": {},
   "outputs": [
    {
     "data": {
      "text/plain": [
       "'received'"
      ]
     },
     "execution_count": 19,
     "metadata": {},
     "output_type": "execute_result"
    }
   ],
   "source": [
    "w=\"received\"\n",
    "lem.lemmatize(w)"
   ]
  },
  {
   "cell_type": "code",
   "execution_count": 21,
   "metadata": {},
   "outputs": [
    {
     "data": {
      "text/plain": [
       "'study'"
      ]
     },
     "execution_count": 21,
     "metadata": {},
     "output_type": "execute_result"
    }
   ],
   "source": [
    "word=\"studies\"  \n",
    "lem.lemmatize(word)"
   ]
  },
  {
   "cell_type": "markdown",
   "metadata": {},
   "source": [
    "# SUFFIXES in HINDI FOR STEMMING"
   ]
  },
  {
   "cell_type": "markdown",
   "metadata": {},
   "source": [
    "suffixes = {\n",
    "    1: [\"ो\", \"े\", \"ू\", \"ु\", \"ी\", \"ि\", \"ा\"],\n",
    "    2: [\"कर\", \"ाओ\", \"िए\", \"ाई\", \"ाए\", \"ने\", \"नी\", \"ना\", \"ते\", \"ीं\", \"ती\", \"ता\", \"ाँ\", \"ां\", \"ों\", \"ें\"],\n",
    "    3: [\"ाकर\", \"ाइए\", \"ाईं\", \"ाया\", \"ेगी\", \"ेगा\", \"ोगी\", \"ोगे\", \"ाने\", \"ाना\", \"ाते\", \"ाती\", \"ाता\", \"तीं\", \"ाओं\", \"ाएं\", \"ुओं\", \"ुएं\", \"ुआं\"],\n",
    "    4: [\"ाएगी\", \"ाएगा\", \"ाओगी\", \"ाओगे\", \"एंगी\", \"ेंगी\", \"एंगे\", \"ेंगे\", \"ूंगी\", \"ूंगा\", \"ातीं\", \"नाओं\", \"नाएं\", \"ताओं\", \"ताएं\", \"ियाँ\", \"ियों\", \"ियां\"],\n",
    "    5: [\"ाएंगी\", \"ाएंगे\", \"ाऊंगी\", \"ाऊंगा\", \"ाइयाँ\", \"ाइयों\", \"ाइयां\"],"
   ]
  },
  {
   "cell_type": "markdown",
   "metadata": {},
   "source": [
    "# https://pypi.org/project/root-pack/ ---For Malayalam "
   ]
  },
  {
   "cell_type": "markdown",
   "metadata": {},
   "source": [
    "# PART OF SPEECH TAGGING"
   ]
  },
  {
   "cell_type": "code",
   "execution_count": 22,
   "metadata": {},
   "outputs": [
    {
     "name": "stderr",
     "output_type": "stream",
     "text": [
      "[nltk_data] Downloading package tagsets to\n",
      "[nltk_data]     C:\\Users\\dhany\\AppData\\Roaming\\nltk_data...\n",
      "[nltk_data]   Package tagsets is already up-to-date!\n"
     ]
    },
    {
     "data": {
      "text/plain": [
       "True"
      ]
     },
     "execution_count": 22,
     "metadata": {},
     "output_type": "execute_result"
    }
   ],
   "source": [
    "\n",
    "nltk.download('tagsets')\n"
   ]
  },
  {
   "cell_type": "code",
   "execution_count": 32,
   "metadata": {},
   "outputs": [
    {
     "name": "stderr",
     "output_type": "stream",
     "text": [
      "[nltk_data] Downloading package averaged_perceptron_tagger to\n",
      "[nltk_data]     C:\\Users\\dhany\\AppData\\Roaming\\nltk_data...\n",
      "[nltk_data]   Package averaged_perceptron_tagger is already up-to-\n",
      "[nltk_data]       date!\n"
     ]
    },
    {
     "data": {
      "text/plain": [
       "True"
      ]
     },
     "execution_count": 32,
     "metadata": {},
     "output_type": "execute_result"
    }
   ],
   "source": [
    "nltk.download('averaged_perceptron_tagger')"
   ]
  },
  {
   "cell_type": "code",
   "execution_count": 33,
   "metadata": {},
   "outputs": [
    {
     "data": {
      "text/plain": [
       "[('amount', 'NN'),\n",
       " ('rain', 'NN'),\n",
       " ('state', 'NN'),\n",
       " ('receiv', 'VBD'),\n",
       " ('first', 'JJ'),\n",
       " ('10', 'CD'),\n",
       " ('day', 'NN'),\n",
       " ('august', 'JJ'),\n",
       " ('compar', 'NN'),\n",
       " ('previou', 'NN'),\n",
       " ('two', 'CD'),\n",
       " ('year', 'NN'),\n",
       " ('.', '.'),\n",
       " ('open', 'JJ'),\n",
       " ('dam', 'IN'),\n",
       " ('one', 'CD'),\n",
       " ('time', 'NN'),\n",
       " ('heavi', 'NN'),\n",
       " ('rainfal', 'NN'),\n",
       " ('state', 'NN'),\n",
       " ('led', 'VBD'),\n",
       " ('flood', 'NN'),\n",
       " ('2018', 'CD'),\n",
       " ('.', '.')]"
      ]
     },
     "execution_count": 33,
     "metadata": {},
     "output_type": "execute_result"
    }
   ],
   "source": [
    "\n",
    "nltk.pos_tag(stemmed_words)"
   ]
  },
  {
   "cell_type": "code",
   "execution_count": 34,
   "metadata": {},
   "outputs": [
    {
     "data": {
      "text/plain": [
       "[('He', 'PRP'), ('ate', 'VBD'), ('coconut', 'NN')]"
      ]
     },
     "execution_count": 34,
     "metadata": {},
     "output_type": "execute_result"
    }
   ],
   "source": [
    "s=\"He ate coconut \"\n",
    "nltk.pos_tag(word_tokenize(s))"
   ]
  },
  {
   "cell_type": "code",
   "execution_count": 35,
   "metadata": {},
   "outputs": [
    {
     "name": "stdout",
     "output_type": "stream",
     "text": [
      "PRP: pronoun, personal\n",
      "    hers herself him himself hisself it itself me myself one oneself ours\n",
      "    ourselves ownself self she thee theirs them themselves they thou thy us\n"
     ]
    }
   ],
   "source": [
    "nltk.help.upenn_tagset(\"PRP\")"
   ]
  },
  {
   "cell_type": "code",
   "execution_count": 36,
   "metadata": {},
   "outputs": [
    {
     "name": "stdout",
     "output_type": "stream",
     "text": [
      "[('guru99', 'NN'), ('is', 'VBZ'), ('one', 'CD'), ('of', 'IN'), ('the', 'DT'), ('best', 'JJS'), ('sites', 'NNS'), ('to', 'TO'), ('learn', 'VB'), ('web', 'NN'), (',', ','), ('sap', 'NN'), (',', ','), ('ethical', 'JJ'), ('hacking', 'NN'), ('and', 'CC'), ('much', 'RB'), ('more', 'JJR'), ('online', 'NN'), ('.', '.')]\n",
      "-------------------------------------\n",
      "Counter({'NN': 5, ',': 2, 'VBZ': 1, 'CD': 1, 'IN': 1, 'DT': 1, 'JJS': 1, 'NNS': 1, 'TO': 1, 'VB': 1, 'JJ': 1, 'CC': 1, 'RB': 1, 'JJR': 1, '.': 1})\n"
     ]
    }
   ],
   "source": [
    "from collections import Counter\n",
    "import nltk\n",
    "text = \" Guru99 is one of the best sites to learn WEB, SAP, Ethical Hacking and much more online.\"\n",
    "lower_case = text.lower()\n",
    "tokens = nltk.word_tokenize(lower_case)\n",
    "tags = nltk.pos_tag(tokens)\n",
    "print(tags)\n",
    "print(\"-------------------------------------\")\n",
    "counts = Counter( tag for word,  tag in tags)\n",
    "print(counts)"
   ]
  },
  {
   "cell_type": "markdown",
   "metadata": {},
   "source": [
    "# NAMED ENTITY RECOGNITION"
   ]
  },
  {
   "cell_type": "code",
   "execution_count": 37,
   "metadata": {},
   "outputs": [
    {
     "name": "stderr",
     "output_type": "stream",
     "text": [
      "[nltk_data] Downloading package maxent_ne_chunker to\n",
      "[nltk_data]     C:\\Users\\dhany\\AppData\\Roaming\\nltk_data...\n",
      "[nltk_data]   Package maxent_ne_chunker is already up-to-date!\n"
     ]
    },
    {
     "data": {
      "text/plain": [
       "True"
      ]
     },
     "execution_count": 37,
     "metadata": {},
     "output_type": "execute_result"
    }
   ],
   "source": [
    "nltk.download('maxent_ne_chunker')"
   ]
  },
  {
   "cell_type": "code",
   "execution_count": 38,
   "metadata": {},
   "outputs": [
    {
     "name": "stdout",
     "output_type": "stream",
     "text": [
      "(S\n",
      "  (PERSON Mark/NNP)\n",
      "  and/CC\n",
      "  (PERSON John/NNP)\n",
      "  are/VBP\n",
      "  working/VBG\n",
      "  at/IN\n",
      "  (ORGANIZATION Google/NNP)\n",
      "  ./.)\n"
     ]
    }
   ],
   "source": [
    "from nltk import word_tokenize, pos_tag, ne_chunk\n",
    " \n",
    "sentence = \"Mark and John are working at Google.\"\n",
    " \n",
    "print (ne_chunk(pos_tag(word_tokenize(sentence))))"
   ]
  },
  {
   "cell_type": "code",
   "execution_count": null,
   "metadata": {},
   "outputs": [],
   "source": [
    "nltk.download('words')"
   ]
  },
  {
   "cell_type": "markdown",
   "metadata": {},
   "source": [
    "# Frequency of Words??????????"
   ]
  },
  {
   "cell_type": "code",
   "execution_count": 39,
   "metadata": {},
   "outputs": [
    {
     "name": "stdout",
     "output_type": "stream",
     "text": [
      "<FreqDist with 26 samples and 38 outcomes>\n"
     ]
    },
    {
     "data": {
      "image/png": "[encoded data removed]",
      "text/plain": [
       "<Figure size 432x288 with 1 Axes>"
      ]
     },
     "metadata": {
      "needs_background": "light"
     },
     "output_type": "display_data"
    },
    {
     "data": {
      "text/plain": [
       "<AxesSubplot:xlabel='Samples', ylabel='Counts'>"
      ]
     },
     "execution_count": 39,
     "metadata": {},
     "output_type": "execute_result"
    }
   ],
   "source": [
    "import nltk\n",
    "import matplotlib\n",
    "a = \"Guru99 is the site where you can find the best tutorials for Software Testing  Tutorial, SAP Course for Beginners. Java Tutorial for Beginners and much more. Please     visit the site guru99.com and much more.\"\n",
    "words = nltk.tokenize.word_tokenize(a)\n",
    "fd = nltk.FreqDist(words)\n",
    "print(fd)\n",
    "fd.plot()"
   ]
  },
  {
   "cell_type": "markdown",
   "metadata": {},
   "source": [
    "# Trigrams/bigrams"
   ]
  },
  {
   "cell_type": "code",
   "execution_count": 41,
   "metadata": {},
   "outputs": [
    {
     "name": "stdout",
     "output_type": "stream",
     "text": [
      "[('Guru99', 'is', 'a'), ('is', 'a', 'totally'), ('a', 'totally', 'new'), ('totally', 'new', 'kind'), ('new', 'kind', 'of'), ('kind', 'of', 'learning'), ('of', 'learning', 'experience'), ('learning', 'experience', '.')]\n"
     ]
    }
   ],
   "source": [
    "import nltk\n",
    "\n",
    "text = \"Guru99 is a totally new kind of learning experience.\"\n",
    "Tokens = nltk.word_tokenize(text)\n",
    "output = list(nltk.trigrams(Tokens))\n",
    "print(output)"
   ]
  },
  {
   "cell_type": "code",
   "execution_count": null,
   "metadata": {},
   "outputs": [],
   "source": [
    "import nltk\n",
    "\n",
    "text = \"Guru99 is a totally new kind of learning experience.\"\n",
    "Tokens = nltk.word_tokenize(text)\n",
    "output = list(nltk.trigrams(Tokens))\n",
    "print(output)"
   ]
  },
  {
   "cell_type": "markdown",
   "metadata": {},
   "source": [
    "# Parsing"
   ]
  },
  {
   "cell_type": "code",
   "execution_count": 42,
   "metadata": {},
   "outputs": [
    {
     "name": "stdout",
     "output_type": "stream",
     "text": [
      "(S\n",
      "  (NP the/DT little/JJ yellow/JJ dog/NN)\n",
      "  barked/VBD\n",
      "  at/IN\n",
      "  (NP the/DT cat/NN))\n"
     ]
    }
   ],
   "source": [
    "import nltk\n",
    "\n",
    "sentence = \"the little yellow dog barked at the cat\"\n",
    "\n",
    "#Define your grammar using regular expressions        \n",
    "grammar = ('''\n",
    "    NP: {<DT>?<JJ>*<NN>} # NP\n",
    "    ''')\n",
    "\n",
    "\n",
    "chunkParser = nltk.RegexpParser(grammar)\n",
    "tagged = nltk.pos_tag(nltk.word_tokenize(sentence))\n",
    "tree = chunkParser.parse(tagged)\n",
    "print(tree)"
   ]
  },
  {
   "cell_type": "code",
   "execution_count": null,
   "metadata": {},
   "outputs": [],
   "source": []
  }
 ],
 "metadata": {
  "kernelspec": {
   "display_name": "Python 3",
   "language": "python",
   "name": "python3"
  },
  "language_info": {
   "codemirror_mode": {
    "name": "ipython",
    "version": 3
   },
   "file_extension": ".py",
   "mimetype": "text/x-python",
   "name": "python",
   "nbconvert_exporter": "python",
   "pygments_lexer": "ipython3",
   "version": "3.8.5"
  }
 },
 "nbformat": 4,
 "nbformat_minor": 2
}
